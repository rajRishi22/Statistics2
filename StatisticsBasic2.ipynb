{
 "cells": [
  {
   "cell_type": "code",
   "execution_count": 1,
   "id": "4a1e1bcd-5cec-467d-b39d-9679bf82af08",
   "metadata": {},
   "outputs": [],
   "source": [
    "# 1.Ans\n",
    "# Mean ,Median and Mode are the three measures of central tendency."
   ]
  },
  {
   "cell_type": "code",
   "execution_count": 2,
   "id": "ecb55690-4384-451a-ba21-873d45881962",
   "metadata": {},
   "outputs": [],
   "source": [
    "# 2.Ans\n",
    "# Mean-It gives average of data set.\n",
    "# Median- It is the data value that lies at the center of the dataset.\n",
    "# Mode-It is data value having highest frequency."
   ]
  },
  {
   "cell_type": "code",
   "execution_count": 3,
   "id": "92e3b875-b8bd-4b98-aaa3-571f60b79b89",
   "metadata": {},
   "outputs": [],
   "source": [
    "#3.Ans\n",
    "data=[178,177,176,177,178.2,178,175,179,180,175,178.9,176.2,177,172.5,178,176.5]"
   ]
  },
  {
   "cell_type": "code",
   "execution_count": 4,
   "id": "97df6cc5-8098-4c5f-99a3-b2b2ec84f620",
   "metadata": {},
   "outputs": [],
   "source": [
    "import numpy as np"
   ]
  },
  {
   "cell_type": "code",
   "execution_count": 5,
   "id": "cb1af69b-321f-4c02-bff0-8814559695df",
   "metadata": {},
   "outputs": [
    {
     "data": {
      "text/plain": [
       "177.01875"
      ]
     },
     "execution_count": 5,
     "metadata": {},
     "output_type": "execute_result"
    }
   ],
   "source": [
    "np.mean(data)"
   ]
  },
  {
   "cell_type": "code",
   "execution_count": 6,
   "id": "3683b028-d638-4458-922e-e6b5a60b7dc6",
   "metadata": {},
   "outputs": [
    {
     "data": {
      "text/plain": [
       "177.0"
      ]
     },
     "execution_count": 6,
     "metadata": {},
     "output_type": "execute_result"
    }
   ],
   "source": [
    "np.median(data)"
   ]
  },
  {
   "cell_type": "code",
   "execution_count": 8,
   "id": "7bc3d2a6-5685-41fa-a8f0-8b9455ba905e",
   "metadata": {},
   "outputs": [],
   "source": [
    "from scipy import stats"
   ]
  },
  {
   "cell_type": "code",
   "execution_count": 9,
   "id": "01dadd4c-0c1d-4968-ba41-e1cba1a761ff",
   "metadata": {},
   "outputs": [
    {
     "name": "stderr",
     "output_type": "stream",
     "text": [
      "/tmp/ipykernel_95/3267261142.py:1: FutureWarning: Unlike other reduction functions (e.g. `skew`, `kurtosis`), the default behavior of `mode` typically preserves the axis it acts along. In SciPy 1.11.0, this behavior will change: the default value of `keepdims` will become False, the `axis` over which the statistic is taken will be eliminated, and the value None will no longer be accepted. Set `keepdims` to True or False to avoid this warning.\n",
      "  stats.mode(data)\n"
     ]
    },
    {
     "data": {
      "text/plain": [
       "ModeResult(mode=array([177.]), count=array([3]))"
      ]
     },
     "execution_count": 9,
     "metadata": {},
     "output_type": "execute_result"
    }
   ],
   "source": [
    "stats.mode(data)"
   ]
  },
  {
   "cell_type": "code",
   "execution_count": 10,
   "id": "fa67f208-620a-4564-af1d-fe99c2ef6c76",
   "metadata": {},
   "outputs": [],
   "source": [
    "data2=[178,177,176,177,178.2,178,175,179,180,175,178.9,176.2,177,172.5,178,176.5]"
   ]
  },
  {
   "cell_type": "code",
   "execution_count": 12,
   "id": "13401d7c-ec1c-4755-9c06-0fd664b2ef2f",
   "metadata": {},
   "outputs": [
    {
     "data": {
      "text/plain": [
       "1.7885814036548633"
      ]
     },
     "execution_count": 12,
     "metadata": {},
     "output_type": "execute_result"
    }
   ],
   "source": [
    "# 4.Ans\n",
    "np.std(data)"
   ]
  },
  {
   "cell_type": "code",
   "execution_count": 13,
   "id": "60884cf1-4a23-48ca-80f3-b5c7eb1a3462",
   "metadata": {},
   "outputs": [],
   "source": [
    "# 5.Ans\n",
    "# Range-It gives the difference between max and min data set which enables us to determine how spread is the data.\n",
    "# Variance-It gives dispersion of data set with respect to its mean.\n",
    "# Standard Deviation-It is underroot of variance"
   ]
  },
  {
   "cell_type": "code",
   "execution_count": 15,
   "id": "0f97b636-6d72-432f-ad6a-1625a56d39d8",
   "metadata": {},
   "outputs": [],
   "source": [
    "# 6.Ans\n",
    "# A Venn diagram is a pictorial representation of sets in terms of geometrical shapes ."
   ]
  },
  {
   "cell_type": "code",
   "execution_count": 16,
   "id": "a62d7440-caab-4c88-a885-25265d69b95a",
   "metadata": {},
   "outputs": [],
   "source": [
    "# 7.ans\n",
    "# i.Ans (2,6)\n",
    "# ii.Ans (0,2,3,4,5,6,7,8,10)"
   ]
  },
  {
   "cell_type": "code",
   "execution_count": 17,
   "id": "f160abdc-28e5-4a3e-af36-2a64d4526419",
   "metadata": {},
   "outputs": [],
   "source": [
    "# 8. Skewness is measurement of distortion of data from symmetry.If data is more concentrated on one side in the range it would said to be skewed on that side.\n"
   ]
  },
  {
   "cell_type": "code",
   "execution_count": 18,
   "id": "9a4b5367-4b65-41cf-ad5c-69fc4debde68",
   "metadata": {},
   "outputs": [],
   "source": [
    "# 9.Ans\n",
    "# mean will be smaller than median thus will be on left of median."
   ]
  },
  {
   "cell_type": "code",
   "execution_count": 19,
   "id": "aa2a42c0-16ea-43c2-9e5b-c8836b2b9f84",
   "metadata": {},
   "outputs": [],
   "source": [
    "# 10.Ans\n",
    "# Covariance and Correlation both tells us relationships between two datasets.\n",
    "# Covariance doesn't have a limit whereas correlation has a definite range."
   ]
  },
  {
   "cell_type": "code",
   "execution_count": 21,
   "id": "2d4ef652-d44e-4eea-94e9-e308b6771591",
   "metadata": {},
   "outputs": [
    {
     "name": "stdout",
     "output_type": "stream",
     "text": [
      "45.8\n"
     ]
    }
   ],
   "source": [
    "# 11.Ans\n",
    "# sample mean=(sum of all data in sample data set)/(no. of elements in sample data set)\n",
    "marks=[45,47,48,49,40]\n",
    "mean=np.mean(marks)\n",
    "print(mean)"
   ]
  },
  {
   "cell_type": "code",
   "execution_count": 22,
   "id": "30c8af71-8df2-40c5-8973-8d7b57a8486b",
   "metadata": {},
   "outputs": [],
   "source": [
    "# 12.Ans\n",
    "# Mean=Median=Mode\n"
   ]
  },
  {
   "cell_type": "code",
   "execution_count": 23,
   "id": "33a41c5b-8f7e-41cd-ab56-d12da96c73d1",
   "metadata": {},
   "outputs": [],
   "source": [
    "# 13.Ans\n",
    "# Covariance and Correlation both tells us relationships between two datasets.\n",
    "# Covariance doesn't have a limit whereas correlation has a definite range."
   ]
  },
  {
   "cell_type": "code",
   "execution_count": 25,
   "id": "b4599447-465d-4f6f-ad23-468d76463a16",
   "metadata": {},
   "outputs": [
    {
     "name": "stdout",
     "output_type": "stream",
     "text": [
      "45.8\n",
      "54.833333333333336\n"
     ]
    }
   ],
   "source": [
    "# 14.Ans# Outliners leads to more dispersion in data and it affetcs mean too.\n",
    "marks=[45,47,48,49,40]\n",
    "marks2=[45,47,48,49,40,100]\n",
    "mean1=np.mean(marks)\n",
    "mean2=np.mean(marks2)\n",
    "print(mean1)\n",
    "print(mean2)"
   ]
  },
  {
   "cell_type": "code",
   "execution_count": null,
   "id": "3c5c4d53-f805-4e8f-96a6-90f334335271",
   "metadata": {},
   "outputs": [],
   "source": []
  }
 ],
 "metadata": {
  "kernelspec": {
   "display_name": "Python 3 (ipykernel)",
   "language": "python",
   "name": "python3"
  },
  "language_info": {
   "codemirror_mode": {
    "name": "ipython",
    "version": 3
   },
   "file_extension": ".py",
   "mimetype": "text/x-python",
   "name": "python",
   "nbconvert_exporter": "python",
   "pygments_lexer": "ipython3",
   "version": "3.10.8"
  }
 },
 "nbformat": 4,
 "nbformat_minor": 5
}
